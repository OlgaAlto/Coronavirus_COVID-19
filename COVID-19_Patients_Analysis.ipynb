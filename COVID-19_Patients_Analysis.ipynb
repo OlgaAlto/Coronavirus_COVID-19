{
 "cells": [
  {
   "cell_type": "code",
   "execution_count": 2,
   "metadata": {},
   "outputs": [],
   "source": [
    "%matplotlib inline\n",
    "\n",
    "import numpy as np\n",
    "import pandas as pd\n",
    "import matplotlib.pyplot as plt\n",
    "import seaborn as sns"
   ]
  },
  {
   "cell_type": "code",
   "execution_count": 3,
   "metadata": {},
   "outputs": [],
   "source": [
    "url = 'https://docs.google.com/spreadsheets/d/1jS24DjSPVWa4iuxuD4OAXrE3QeI8c9BC1hSlqr-NMiU/edit#gid=1187587451'\n",
    "url = url.replace('/edit#gid=', '/export?format=csv&gid=')\n",
    "\n",
    "patient = pd.read_csv(url, header=1, index_col=0)"
   ]
  },
  {
   "cell_type": "code",
   "execution_count": 4,
   "metadata": {
    "scrolled": true
   },
   "outputs": [
    {
     "data": {
      "text/html": [
       "<div>\n",
       "<style scoped>\n",
       "    .dataframe tbody tr th:only-of-type {\n",
       "        vertical-align: middle;\n",
       "    }\n",
       "\n",
       "    .dataframe tbody tr th {\n",
       "        vertical-align: top;\n",
       "    }\n",
       "\n",
       "    .dataframe thead th {\n",
       "        text-align: right;\n",
       "    }\n",
       "</style>\n",
       "<table border=\"1\" class=\"dataframe\">\n",
       "  <thead>\n",
       "    <tr style=\"text-align: right;\">\n",
       "      <th></th>\n",
       "      <th>case_in_country</th>\n",
       "      <th>reporting date</th>\n",
       "      <th>summary</th>\n",
       "      <th>location</th>\n",
       "      <th>country</th>\n",
       "      <th>gender</th>\n",
       "      <th>age</th>\n",
       "      <th>symptom_onset</th>\n",
       "      <th>If_onset_approximated</th>\n",
       "      <th>hosp_visit_date</th>\n",
       "      <th>...</th>\n",
       "      <th>exposure_start</th>\n",
       "      <th>exposure_end</th>\n",
       "      <th>traveler</th>\n",
       "      <th>visiting Wuhan</th>\n",
       "      <th>from Wuhan</th>\n",
       "      <th>death</th>\n",
       "      <th>recovered</th>\n",
       "      <th>symptom</th>\n",
       "      <th>source</th>\n",
       "      <th>link</th>\n",
       "    </tr>\n",
       "    <tr>\n",
       "      <th>id</th>\n",
       "      <th></th>\n",
       "      <th></th>\n",
       "      <th></th>\n",
       "      <th></th>\n",
       "      <th></th>\n",
       "      <th></th>\n",
       "      <th></th>\n",
       "      <th></th>\n",
       "      <th></th>\n",
       "      <th></th>\n",
       "      <th></th>\n",
       "      <th></th>\n",
       "      <th></th>\n",
       "      <th></th>\n",
       "      <th></th>\n",
       "      <th></th>\n",
       "      <th></th>\n",
       "      <th></th>\n",
       "      <th></th>\n",
       "      <th></th>\n",
       "      <th></th>\n",
       "    </tr>\n",
       "  </thead>\n",
       "  <tbody>\n",
       "    <tr>\n",
       "      <td>1</td>\n",
       "      <td>NaN</td>\n",
       "      <td>1/20/2020</td>\n",
       "      <td>First confirmed imported COVID-19 pneumonia pa...</td>\n",
       "      <td>Shenzhen, Guangdong</td>\n",
       "      <td>China</td>\n",
       "      <td>male</td>\n",
       "      <td>66.0</td>\n",
       "      <td>1/3/2020</td>\n",
       "      <td>0.0</td>\n",
       "      <td>1/11/2020</td>\n",
       "      <td>...</td>\n",
       "      <td>12/29/2019</td>\n",
       "      <td>1/4/2020</td>\n",
       "      <td>NaN</td>\n",
       "      <td>1.0</td>\n",
       "      <td>0.0</td>\n",
       "      <td>0</td>\n",
       "      <td>0</td>\n",
       "      <td>NaN</td>\n",
       "      <td>Shenzhen Municipal Health Commission</td>\n",
       "      <td>http://wjw.sz.gov.cn/wzx/202001/t20200120_1898...</td>\n",
       "    </tr>\n",
       "    <tr>\n",
       "      <td>2</td>\n",
       "      <td>NaN</td>\n",
       "      <td>1/20/2020</td>\n",
       "      <td>First confirmed imported COVID-19 pneumonia pa...</td>\n",
       "      <td>Shanghai</td>\n",
       "      <td>China</td>\n",
       "      <td>female</td>\n",
       "      <td>56.0</td>\n",
       "      <td>1/15/2020</td>\n",
       "      <td>0.0</td>\n",
       "      <td>1/15/2020</td>\n",
       "      <td>...</td>\n",
       "      <td>NaN</td>\n",
       "      <td>1/12/2020</td>\n",
       "      <td>NaN</td>\n",
       "      <td>0.0</td>\n",
       "      <td>1.0</td>\n",
       "      <td>0</td>\n",
       "      <td>0</td>\n",
       "      <td>NaN</td>\n",
       "      <td>Official Weibo of Shanghai Municipal Health Co...</td>\n",
       "      <td>https://www.weibo.com/2372649470/IqogQhgfa?fro...</td>\n",
       "    </tr>\n",
       "    <tr>\n",
       "      <td>3</td>\n",
       "      <td>NaN</td>\n",
       "      <td>1/21/2020</td>\n",
       "      <td>First confirmed imported cases in Zhejiang: pa...</td>\n",
       "      <td>Zhejiang</td>\n",
       "      <td>China</td>\n",
       "      <td>male</td>\n",
       "      <td>46.0</td>\n",
       "      <td>1/4/2020</td>\n",
       "      <td>0.0</td>\n",
       "      <td>1/17/2020</td>\n",
       "      <td>...</td>\n",
       "      <td>NaN</td>\n",
       "      <td>1/3/2020</td>\n",
       "      <td>NaN</td>\n",
       "      <td>0.0</td>\n",
       "      <td>1.0</td>\n",
       "      <td>0</td>\n",
       "      <td>0</td>\n",
       "      <td>NaN</td>\n",
       "      <td>Health Commission of Zhejiang Province</td>\n",
       "      <td>http://www.zjwjw.gov.cn/art/2020/1/21/art_1202...</td>\n",
       "    </tr>\n",
       "    <tr>\n",
       "      <td>4</td>\n",
       "      <td>NaN</td>\n",
       "      <td>1/21/2020</td>\n",
       "      <td>new confirmed imported COVID-19 pneumonia in T...</td>\n",
       "      <td>Tianjin</td>\n",
       "      <td>China</td>\n",
       "      <td>female</td>\n",
       "      <td>60.0</td>\n",
       "      <td>NaN</td>\n",
       "      <td>NaN</td>\n",
       "      <td>1/19/2020</td>\n",
       "      <td>...</td>\n",
       "      <td>NaN</td>\n",
       "      <td>NaN</td>\n",
       "      <td>NaN</td>\n",
       "      <td>1.0</td>\n",
       "      <td>0.0</td>\n",
       "      <td>0</td>\n",
       "      <td>0</td>\n",
       "      <td>NaN</td>\n",
       "      <td>人民日报官方微博</td>\n",
       "      <td>https://m.weibo.cn/status/4463235401268457?</td>\n",
       "    </tr>\n",
       "    <tr>\n",
       "      <td>5</td>\n",
       "      <td>NaN</td>\n",
       "      <td>1/21/2020</td>\n",
       "      <td>new confirmed imported COVID-19 pneumonia in T...</td>\n",
       "      <td>Tianjin</td>\n",
       "      <td>China</td>\n",
       "      <td>male</td>\n",
       "      <td>58.0</td>\n",
       "      <td>NaN</td>\n",
       "      <td>NaN</td>\n",
       "      <td>1/14/2020</td>\n",
       "      <td>...</td>\n",
       "      <td>NaN</td>\n",
       "      <td>NaN</td>\n",
       "      <td>NaN</td>\n",
       "      <td>0.0</td>\n",
       "      <td>0.0</td>\n",
       "      <td>0</td>\n",
       "      <td>0</td>\n",
       "      <td>NaN</td>\n",
       "      <td>人民日报官方微博</td>\n",
       "      <td>https://m.weibo.cn/status/4463235401268457?</td>\n",
       "    </tr>\n",
       "    <tr>\n",
       "      <td>...</td>\n",
       "      <td>...</td>\n",
       "      <td>...</td>\n",
       "      <td>...</td>\n",
       "      <td>...</td>\n",
       "      <td>...</td>\n",
       "      <td>...</td>\n",
       "      <td>...</td>\n",
       "      <td>...</td>\n",
       "      <td>...</td>\n",
       "      <td>...</td>\n",
       "      <td>...</td>\n",
       "      <td>...</td>\n",
       "      <td>...</td>\n",
       "      <td>...</td>\n",
       "      <td>...</td>\n",
       "      <td>...</td>\n",
       "      <td>...</td>\n",
       "      <td>...</td>\n",
       "      <td>...</td>\n",
       "      <td>...</td>\n",
       "      <td>...</td>\n",
       "    </tr>\n",
       "    <tr>\n",
       "      <td>2699</td>\n",
       "      <td>6.0</td>\n",
       "      <td>2/27/2020</td>\n",
       "      <td>new COVID-19 patient confirmed in Switzerland:...</td>\n",
       "      <td>Aargau</td>\n",
       "      <td>Switzerland</td>\n",
       "      <td>male</td>\n",
       "      <td>26.0</td>\n",
       "      <td>NaN</td>\n",
       "      <td>NaN</td>\n",
       "      <td>NaN</td>\n",
       "      <td>...</td>\n",
       "      <td>NaN</td>\n",
       "      <td>NaN</td>\n",
       "      <td>1.0</td>\n",
       "      <td>0.0</td>\n",
       "      <td>0.0</td>\n",
       "      <td>0</td>\n",
       "      <td>0</td>\n",
       "      <td>NaN</td>\n",
       "      <td>The Local</td>\n",
       "      <td>https://www.thelocal.ch/20200304/swiss-health-...</td>\n",
       "    </tr>\n",
       "    <tr>\n",
       "      <td>2700</td>\n",
       "      <td>7.0</td>\n",
       "      <td>2/27/2020</td>\n",
       "      <td>new COVID-19 patient confirmed in Switzerland:...</td>\n",
       "      <td>Zurich</td>\n",
       "      <td>Switzerland</td>\n",
       "      <td>female</td>\n",
       "      <td>30.0</td>\n",
       "      <td>NaN</td>\n",
       "      <td>NaN</td>\n",
       "      <td>NaN</td>\n",
       "      <td>...</td>\n",
       "      <td>NaN</td>\n",
       "      <td>NaN</td>\n",
       "      <td>1.0</td>\n",
       "      <td>0.0</td>\n",
       "      <td>0.0</td>\n",
       "      <td>0</td>\n",
       "      <td>0</td>\n",
       "      <td>NaN</td>\n",
       "      <td>The Local</td>\n",
       "      <td>https://www.thelocal.ch/20200304/swiss-health-...</td>\n",
       "    </tr>\n",
       "    <tr>\n",
       "      <td>2701</td>\n",
       "      <td>8.0</td>\n",
       "      <td>2/27/2020</td>\n",
       "      <td>new COVID-19 patient confirmed in Switzerland:...</td>\n",
       "      <td>Vaud</td>\n",
       "      <td>Switzerland</td>\n",
       "      <td>male</td>\n",
       "      <td>49.0</td>\n",
       "      <td>NaN</td>\n",
       "      <td>NaN</td>\n",
       "      <td>NaN</td>\n",
       "      <td>...</td>\n",
       "      <td>NaN</td>\n",
       "      <td>NaN</td>\n",
       "      <td>1.0</td>\n",
       "      <td>0.0</td>\n",
       "      <td>0.0</td>\n",
       "      <td>0</td>\n",
       "      <td>0</td>\n",
       "      <td>NaN</td>\n",
       "      <td>The Local</td>\n",
       "      <td>https://www.thelocal.ch/20200304/swiss-health-...</td>\n",
       "    </tr>\n",
       "    <tr>\n",
       "      <td>2702</td>\n",
       "      <td>9.0</td>\n",
       "      <td>2/27/2020</td>\n",
       "      <td>new COVID-19 patient confirmed in Switzerland:...</td>\n",
       "      <td>Basal-Stadt</td>\n",
       "      <td>Switzerland</td>\n",
       "      <td>female</td>\n",
       "      <td>NaN</td>\n",
       "      <td>NaN</td>\n",
       "      <td>NaN</td>\n",
       "      <td>NaN</td>\n",
       "      <td>...</td>\n",
       "      <td>NaN</td>\n",
       "      <td>NaN</td>\n",
       "      <td>1.0</td>\n",
       "      <td>0.0</td>\n",
       "      <td>0.0</td>\n",
       "      <td>0</td>\n",
       "      <td>0</td>\n",
       "      <td>NaN</td>\n",
       "      <td>The Local</td>\n",
       "      <td>https://www.thelocal.ch/20200304/swiss-health-...</td>\n",
       "    </tr>\n",
       "    <tr>\n",
       "      <td>2703</td>\n",
       "      <td>10.0</td>\n",
       "      <td>2/28/2020</td>\n",
       "      <td>new COVID-19 patient confirmed in Switzerland:...</td>\n",
       "      <td>Basal-Stadt</td>\n",
       "      <td>Switzerland</td>\n",
       "      <td>male</td>\n",
       "      <td>23.0</td>\n",
       "      <td>NaN</td>\n",
       "      <td>NaN</td>\n",
       "      <td>NaN</td>\n",
       "      <td>...</td>\n",
       "      <td>NaN</td>\n",
       "      <td>NaN</td>\n",
       "      <td>0.0</td>\n",
       "      <td>0.0</td>\n",
       "      <td>0.0</td>\n",
       "      <td>0</td>\n",
       "      <td>0</td>\n",
       "      <td>NaN</td>\n",
       "      <td>The Local</td>\n",
       "      <td>https://www.thelocal.ch/20200304/swiss-health-...</td>\n",
       "    </tr>\n",
       "  </tbody>\n",
       "</table>\n",
       "<p>2703 rows × 22 columns</p>\n",
       "</div>"
      ],
      "text/plain": [
       "      case_in_country reporting date  \\\n",
       "id                                     \n",
       "1                 NaN      1/20/2020   \n",
       "2                 NaN      1/20/2020   \n",
       "3                 NaN      1/21/2020   \n",
       "4                 NaN      1/21/2020   \n",
       "5                 NaN      1/21/2020   \n",
       "...               ...            ...   \n",
       "2699              6.0      2/27/2020   \n",
       "2700              7.0      2/27/2020   \n",
       "2701              8.0      2/27/2020   \n",
       "2702              9.0      2/27/2020   \n",
       "2703             10.0      2/28/2020   \n",
       "\n",
       "                                                summary             location  \\\n",
       "id                                                                             \n",
       "1     First confirmed imported COVID-19 pneumonia pa...  Shenzhen, Guangdong   \n",
       "2     First confirmed imported COVID-19 pneumonia pa...             Shanghai   \n",
       "3     First confirmed imported cases in Zhejiang: pa...             Zhejiang   \n",
       "4     new confirmed imported COVID-19 pneumonia in T...              Tianjin   \n",
       "5     new confirmed imported COVID-19 pneumonia in T...              Tianjin   \n",
       "...                                                 ...                  ...   \n",
       "2699  new COVID-19 patient confirmed in Switzerland:...               Aargau   \n",
       "2700  new COVID-19 patient confirmed in Switzerland:...               Zurich   \n",
       "2701  new COVID-19 patient confirmed in Switzerland:...                 Vaud   \n",
       "2702  new COVID-19 patient confirmed in Switzerland:...          Basal-Stadt   \n",
       "2703  new COVID-19 patient confirmed in Switzerland:...          Basal-Stadt   \n",
       "\n",
       "          country  gender   age symptom_onset  If_onset_approximated  \\\n",
       "id                                                                     \n",
       "1           China    male  66.0      1/3/2020                    0.0   \n",
       "2           China  female  56.0     1/15/2020                    0.0   \n",
       "3           China    male  46.0      1/4/2020                    0.0   \n",
       "4           China  female  60.0           NaN                    NaN   \n",
       "5           China    male  58.0           NaN                    NaN   \n",
       "...           ...     ...   ...           ...                    ...   \n",
       "2699  Switzerland    male  26.0           NaN                    NaN   \n",
       "2700  Switzerland  female  30.0           NaN                    NaN   \n",
       "2701  Switzerland    male  49.0           NaN                    NaN   \n",
       "2702  Switzerland  female   NaN           NaN                    NaN   \n",
       "2703  Switzerland    male  23.0           NaN                    NaN   \n",
       "\n",
       "     hosp_visit_date  ...  exposure_start  exposure_end traveler  \\\n",
       "id                    ...                                          \n",
       "1          1/11/2020  ...      12/29/2019      1/4/2020      NaN   \n",
       "2          1/15/2020  ...             NaN     1/12/2020      NaN   \n",
       "3          1/17/2020  ...             NaN      1/3/2020      NaN   \n",
       "4          1/19/2020  ...             NaN           NaN      NaN   \n",
       "5          1/14/2020  ...             NaN           NaN      NaN   \n",
       "...              ...  ...             ...           ...      ...   \n",
       "2699             NaN  ...             NaN           NaN      1.0   \n",
       "2700             NaN  ...             NaN           NaN      1.0   \n",
       "2701             NaN  ...             NaN           NaN      1.0   \n",
       "2702             NaN  ...             NaN           NaN      1.0   \n",
       "2703             NaN  ...             NaN           NaN      0.0   \n",
       "\n",
       "     visiting Wuhan  from Wuhan  death  recovered symptom  \\\n",
       "id                                                          \n",
       "1               1.0         0.0      0          0     NaN   \n",
       "2               0.0         1.0      0          0     NaN   \n",
       "3               0.0         1.0      0          0     NaN   \n",
       "4               1.0         0.0      0          0     NaN   \n",
       "5               0.0         0.0      0          0     NaN   \n",
       "...             ...         ...    ...        ...     ...   \n",
       "2699            0.0         0.0      0          0     NaN   \n",
       "2700            0.0         0.0      0          0     NaN   \n",
       "2701            0.0         0.0      0          0     NaN   \n",
       "2702            0.0         0.0      0          0     NaN   \n",
       "2703            0.0         0.0      0          0     NaN   \n",
       "\n",
       "                                                 source  \\\n",
       "id                                                        \n",
       "1                  Shenzhen Municipal Health Commission   \n",
       "2     Official Weibo of Shanghai Municipal Health Co...   \n",
       "3                Health Commission of Zhejiang Province   \n",
       "4                                              人民日报官方微博   \n",
       "5                                              人民日报官方微博   \n",
       "...                                                 ...   \n",
       "2699                                          The Local   \n",
       "2700                                          The Local   \n",
       "2701                                          The Local   \n",
       "2702                                          The Local   \n",
       "2703                                          The Local   \n",
       "\n",
       "                                                   link  \n",
       "id                                                       \n",
       "1     http://wjw.sz.gov.cn/wzx/202001/t20200120_1898...  \n",
       "2     https://www.weibo.com/2372649470/IqogQhgfa?fro...  \n",
       "3     http://www.zjwjw.gov.cn/art/2020/1/21/art_1202...  \n",
       "4           https://m.weibo.cn/status/4463235401268457?  \n",
       "5           https://m.weibo.cn/status/4463235401268457?  \n",
       "...                                                 ...  \n",
       "2699  https://www.thelocal.ch/20200304/swiss-health-...  \n",
       "2700  https://www.thelocal.ch/20200304/swiss-health-...  \n",
       "2701  https://www.thelocal.ch/20200304/swiss-health-...  \n",
       "2702  https://www.thelocal.ch/20200304/swiss-health-...  \n",
       "2703  https://www.thelocal.ch/20200304/swiss-health-...  \n",
       "\n",
       "[2703 rows x 22 columns]"
      ]
     },
     "execution_count": 4,
     "metadata": {},
     "output_type": "execute_result"
    }
   ],
   "source": [
    "patient"
   ]
  },
  {
   "cell_type": "code",
   "execution_count": 5,
   "metadata": {},
   "outputs": [
    {
     "data": {
      "text/plain": [
       "male      855\n",
       "female    669\n",
       "Name: gender, dtype: int64"
      ]
     },
     "execution_count": 5,
     "metadata": {},
     "output_type": "execute_result"
    }
   ],
   "source": [
    "# Gender differences\n",
    "patient.gender.value_counts()  "
   ]
  },
  {
   "cell_type": "code",
   "execution_count": 6,
   "metadata": {},
   "outputs": [
    {
     "data": {
      "text/plain": [
       "male      0.56\n",
       "female    0.44\n",
       "Name: gender, dtype: float64"
      ]
     },
     "execution_count": 6,
     "metadata": {},
     "output_type": "execute_result"
    }
   ],
   "source": [
    "# Percentage of gender differences\n",
    "patient.gender.value_counts(normalize=True).round(2) "
   ]
  },
  {
   "cell_type": "code",
   "execution_count": 7,
   "metadata": {},
   "outputs": [
    {
     "data": {
      "image/png": "[encoded data removed]",
      "text/plain": [
       "<Figure size 720x360 with 1 Axes>"
      ]
     },
     "metadata": {},
     "output_type": "display_data"
    }
   ],
   "source": [
    "cc = patient['gender'].value_counts().plot(kind='pie', figsize=(10,5), autopct=\"%.0f%%\", pctdistance = 0.75, textprops={'fontsize': 14})\n",
    "\n",
    "cc.set_title('Gender of patients', fontsize=16)\n",
    "cc.set_ylabel('')\n",
    "circle = plt.Circle((0,0), 0.6, color='white')\n",
    "cc.add_artist(circle)\n",
    "plt.axis('equal')\n",
    "plt.tight_layout()"
   ]
  },
  {
   "cell_type": "code",
   "execution_count": 8,
   "metadata": {},
   "outputs": [
    {
     "data": {
      "text/plain": [
       "Text(0.5, 0, 'age')"
      ]
     },
     "execution_count": 8,
     "metadata": {},
     "output_type": "execute_result"
    },
    {
     "data": {
      "image/png": "[encoded data removed]",
      "text/plain": [
       "<Figure size 432x288 with 1 Axes>"
      ]
     },
     "metadata": {
      "needs_background": "light"
     },
     "output_type": "display_data"
    }
   ],
   "source": [
    "# Histogramm Patients age\n",
    "ax1 = patient.age.hist()\n",
    "ax1.set_title('Patients age', fontsize=14)\n",
    "plt.xlabel('age', fontsize=14)\n"
   ]
  },
  {
   "cell_type": "code",
   "execution_count": 9,
   "metadata": {},
   "outputs": [
    {
     "data": {
      "text/plain": [
       "50.76689432063264"
      ]
     },
     "execution_count": 9,
     "metadata": {},
     "output_type": "execute_result"
    }
   ],
   "source": [
    "# Patients age in average\n",
    "patient.age.mean()\n",
    "\n",
    "#RESULT: The average age of the patient 50 years."
   ]
  },
  {
   "cell_type": "code",
   "execution_count": 10,
   "metadata": {},
   "outputs": [
    {
     "data": {
      "text/html": [
       "<div>\n",
       "<style scoped>\n",
       "    .dataframe tbody tr th:only-of-type {\n",
       "        vertical-align: middle;\n",
       "    }\n",
       "\n",
       "    .dataframe tbody tr th {\n",
       "        vertical-align: top;\n",
       "    }\n",
       "\n",
       "    .dataframe thead tr th {\n",
       "        text-align: left;\n",
       "    }\n",
       "\n",
       "    .dataframe thead tr:last-of-type th {\n",
       "        text-align: right;\n",
       "    }\n",
       "</style>\n",
       "<table border=\"1\" class=\"dataframe\">\n",
       "  <thead>\n",
       "    <tr>\n",
       "      <th></th>\n",
       "      <th colspan=\"2\" halign=\"left\">age</th>\n",
       "    </tr>\n",
       "    <tr>\n",
       "      <th></th>\n",
       "      <th>min</th>\n",
       "      <th>max</th>\n",
       "    </tr>\n",
       "    <tr>\n",
       "      <th>gender</th>\n",
       "      <th></th>\n",
       "      <th></th>\n",
       "    </tr>\n",
       "  </thead>\n",
       "  <tbody>\n",
       "    <tr>\n",
       "      <td>female</td>\n",
       "      <td>2.0</td>\n",
       "      <td>96.0</td>\n",
       "    </tr>\n",
       "    <tr>\n",
       "      <td>male</td>\n",
       "      <td>0.5</td>\n",
       "      <td>95.0</td>\n",
       "    </tr>\n",
       "  </tbody>\n",
       "</table>\n",
       "</div>"
      ],
      "text/plain": [
       "        age      \n",
       "        min   max\n",
       "gender           \n",
       "female  2.0  96.0\n",
       "male    0.5  95.0"
      ]
     },
     "execution_count": 10,
     "metadata": {},
     "output_type": "execute_result"
    }
   ],
   "source": [
    "# Min/max patients age\n",
    "db = patient.groupby([\"gender\"]).agg({'age':[min,max]})\n",
    "db"
   ]
  },
  {
   "cell_type": "code",
   "execution_count": 13,
   "metadata": {},
   "outputs": [
    {
     "data": {
      "text/plain": [
       "5.00     5\n",
       "12.00    4\n",
       "8.00     3\n",
       "9.00     3\n",
       "2.00     3\n",
       "11.00    2\n",
       "4.00     2\n",
       "0.25     1\n",
       "3.00     1\n",
       "6.00     1\n",
       "1.00     1\n",
       "0.50     1\n",
       "Name: age, dtype: int64"
      ]
     },
     "execution_count": 13,
     "metadata": {},
     "output_type": "execute_result"
    }
   ],
   "source": [
    "patient.age[patient.age.between(0,12)].value_counts()"
   ]
  },
  {
   "cell_type": "code",
   "execution_count": 14,
   "metadata": {},
   "outputs": [
    {
     "data": {
      "text/plain": [
       "27"
      ]
     },
     "execution_count": 14,
     "metadata": {},
     "output_type": "execute_result"
    }
   ],
   "source": [
    "age_less_12 = patient.age[patient.age.between(0,12)].count()\n",
    "age_less_12"
   ]
  },
  {
   "cell_type": "code",
   "execution_count": 15,
   "metadata": {},
   "outputs": [
    {
     "data": {
      "text/plain": [
       "24"
      ]
     },
     "execution_count": 15,
     "metadata": {},
     "output_type": "execute_result"
    }
   ],
   "source": [
    "age_13_18 = patient.age[patient.age.between(13,18)].count()\n",
    "age_13_18 "
   ]
  },
  {
   "cell_type": "code",
   "execution_count": 16,
   "metadata": {},
   "outputs": [
    {
     "data": {
      "text/plain": [
       "577"
      ]
     },
     "execution_count": 16,
     "metadata": {},
     "output_type": "execute_result"
    }
   ],
   "source": [
    "age_19_49 = patient.age[patient.age.between(19,49)].count()\n",
    "age_19_49"
   ]
  },
  {
   "cell_type": "code",
   "execution_count": 17,
   "metadata": {},
   "outputs": [
    {
     "data": {
      "text/plain": [
       "315"
      ]
     },
     "execution_count": 17,
     "metadata": {},
     "output_type": "execute_result"
    }
   ],
   "source": [
    "age_50_60 = patient.age[patient.age.between(50,60)].count()\n",
    "age_50_60"
   ]
  },
  {
   "cell_type": "code",
   "execution_count": 18,
   "metadata": {},
   "outputs": [
    {
     "data": {
      "text/plain": [
       "448"
      ]
     },
     "execution_count": 18,
     "metadata": {},
     "output_type": "execute_result"
    }
   ],
   "source": [
    "age_more_61 = patient.age[patient.age.between(61,110)].count()\n",
    "age_more_61"
   ]
  },
  {
   "cell_type": "code",
   "execution_count": 19,
   "metadata": {},
   "outputs": [
    {
     "data": {
      "text/plain": [
       "96.0"
      ]
     },
     "execution_count": 19,
     "metadata": {},
     "output_type": "execute_result"
    }
   ],
   "source": [
    "patient.age.max()"
   ]
  },
  {
   "cell_type": "code",
   "execution_count": 20,
   "metadata": {},
   "outputs": [
    {
     "name": "stdout",
     "output_type": "stream",
     "text": [
      "   age_less_12  age_13_18  age_19_49  age_50_60  age_more_61\n",
      "0           27         24        577        315          448\n"
     ]
    }
   ],
   "source": [
    "# The number of cases by group\n",
    "d3 = [{\"age_less_12\": age_less_12, \"age_13_18\": age_13_18, 'age_19_49':age_19_49, 'age_50_60':age_50_60,'age_more_61':age_more_61}]\n",
    "df3 = pd.DataFrame(d3)\n",
    "print(df3)\n"
   ]
  },
  {
   "cell_type": "code",
   "execution_count": 22,
   "metadata": {},
   "outputs": [
    {
     "data": {
      "text/plain": [
       "Text(0.5, 1.0, 'The number of cases by age')"
      ]
     },
     "execution_count": 22,
     "metadata": {},
     "output_type": "execute_result"
    },
    {
     "data": {
      "image/png": "[encoded data removed]",
      "text/plain": [
       "<Figure size 432x288 with 1 Axes>"
      ]
     },
     "metadata": {
      "needs_background": "light"
     },
     "output_type": "display_data"
    }
   ],
   "source": [
    "# Plot \"The number of cases by group\"\n",
    "df3.plot(kind='bar');\n",
    "plt.title('The number of cases by age', fontsize=14)\n"
   ]
  },
  {
   "cell_type": "code",
   "execution_count": 23,
   "metadata": {},
   "outputs": [
    {
     "data": {
      "text/plain": [
       "25"
      ]
     },
     "execution_count": 23,
     "metadata": {},
     "output_type": "execute_result"
    }
   ],
   "source": [
    "# Death Rate by age groups\n",
    "\n",
    "# Death Rate = (number of deaths / number of cases) = probability of dying if infected by the virus (%). \n",
    "\n",
    "#This probability differs depending on the age group. The percentages shown below do not have to add up to 100%, \n",
    "#as they do NOT represent share of deaths by age group. Rather, it represents, for a person in a given age group, \n",
    "#the risk of dying if infected with COVID-19.\n",
    "\n",
    "\n",
    "# Death Rate 0-12 years\n",
    "death_age_less_12 = patient[patient.age.between(0,12)].death.count()\n",
    "death_age_less_12"
   ]
  },
  {
   "cell_type": "code",
   "execution_count": 24,
   "metadata": {},
   "outputs": [
    {
     "data": {
      "text/plain": [
       "2698"
      ]
     },
     "execution_count": 24,
     "metadata": {},
     "output_type": "execute_result"
    }
   ],
   "source": [
    "patient.summary.count()"
   ]
  },
  {
   "cell_type": "code",
   "execution_count": 25,
   "metadata": {},
   "outputs": [
    {
     "data": {
      "text/plain": [
       "0.01"
      ]
     },
     "execution_count": 25,
     "metadata": {},
     "output_type": "execute_result"
    }
   ],
   "source": [
    "# Death rate for age 0-12 years\n",
    "\n",
    "#from decimal import Decimal, ROUND_UP\n",
    "#Decimal(str(death_age_less_12/patient.summary.count())).quantize(Decimal('.01'), rounding=ROUND_UP)\n",
    "death_rate_age_less_12 = death_age_less_12/patient.summary.count()\n",
    "round(death_rate_age_less_12,2)\n"
   ]
  },
  {
   "cell_type": "code",
   "execution_count": 26,
   "metadata": {},
   "outputs": [
    {
     "data": {
      "text/plain": [
       "20"
      ]
     },
     "execution_count": 26,
     "metadata": {},
     "output_type": "execute_result"
    }
   ],
   "source": [
    "# Death in 13-18 years\n",
    "death_age_13_18 = patient[patient.age.between(13,18)].death.count()\n",
    "death_age_13_18"
   ]
  },
  {
   "cell_type": "code",
   "execution_count": 27,
   "metadata": {},
   "outputs": [
    {
     "data": {
      "text/plain": [
       "0.01"
      ]
     },
     "execution_count": 27,
     "metadata": {},
     "output_type": "execute_result"
    }
   ],
   "source": [
    "# Death rate for age 13-18 years\n",
    "death_rate_age_13_18 = death_age_13_18/patient.summary.count()\n",
    "round(death_rate_age_13_18,2)"
   ]
  },
  {
   "cell_type": "code",
   "execution_count": 28,
   "metadata": {},
   "outputs": [
    {
     "data": {
      "text/plain": [
       "501"
      ]
     },
     "execution_count": 28,
     "metadata": {},
     "output_type": "execute_result"
    }
   ],
   "source": [
    "#Death in 19-49 years \n",
    "\n",
    "death_age_19_49 = patient[patient.age.between(19,49)].death.count()\n",
    "death_age_19_49\n"
   ]
  },
  {
   "cell_type": "code",
   "execution_count": 29,
   "metadata": {},
   "outputs": [
    {
     "data": {
      "text/plain": [
       "0.19"
      ]
     },
     "execution_count": 29,
     "metadata": {},
     "output_type": "execute_result"
    }
   ],
   "source": [
    "# Death rate for age 19-49 years\n",
    "death_rate_age_19_49 = death_age_19_49/patient.summary.count()\n",
    "round(death_rate_age_19_49,2)"
   ]
  },
  {
   "cell_type": "code",
   "execution_count": 30,
   "metadata": {},
   "outputs": [
    {
     "data": {
      "text/plain": [
       "267"
      ]
     },
     "execution_count": 30,
     "metadata": {},
     "output_type": "execute_result"
    }
   ],
   "source": [
    "#Death in 50-60 years \n",
    "\n",
    "death_age_50_60 = patient[patient.age.between(50,60)].death.count()\n",
    "death_age_50_60"
   ]
  },
  {
   "cell_type": "code",
   "execution_count": 31,
   "metadata": {},
   "outputs": [
    {
     "data": {
      "text/plain": [
       "0.1"
      ]
     },
     "execution_count": 31,
     "metadata": {},
     "output_type": "execute_result"
    }
   ],
   "source": [
    "# Death rate for age 50-60 years\n",
    "death_rate_age_50_60 = death_age_50_60/patient.summary.count()\n",
    "round(death_rate_age_50_60,2)"
   ]
  },
  {
   "cell_type": "code",
   "execution_count": 33,
   "metadata": {},
   "outputs": [
    {
     "data": {
      "text/plain": [
       "376"
      ]
     },
     "execution_count": 33,
     "metadata": {},
     "output_type": "execute_result"
    }
   ],
   "source": [
    "#Death in 60+ years \n",
    "\n",
    "death_age_more_60 = patient[patient.age.between(60,110)].death.count()\n",
    "death_age_more_60"
   ]
  },
  {
   "cell_type": "code",
   "execution_count": 34,
   "metadata": {},
   "outputs": [
    {
     "data": {
      "text/plain": [
       "0.14"
      ]
     },
     "execution_count": 34,
     "metadata": {},
     "output_type": "execute_result"
    }
   ],
   "source": [
    "# Death rate for age 60+ \n",
    "death_rate_age_more_60 = death_age_more_60/patient.summary.count()\n",
    "round(death_rate_age_more_60,2)"
   ]
  },
  {
   "cell_type": "code",
   "execution_count": 35,
   "metadata": {},
   "outputs": [
    {
     "data": {
      "text/html": [
       "<div>\n",
       "<style scoped>\n",
       "    .dataframe tbody tr th:only-of-type {\n",
       "        vertical-align: middle;\n",
       "    }\n",
       "\n",
       "    .dataframe tbody tr th {\n",
       "        vertical-align: top;\n",
       "    }\n",
       "\n",
       "    .dataframe thead th {\n",
       "        text-align: right;\n",
       "    }\n",
       "</style>\n",
       "<table border=\"1\" class=\"dataframe\">\n",
       "  <thead>\n",
       "    <tr style=\"text-align: right;\">\n",
       "      <th></th>\n",
       "      <th>death_rate_age_less_12</th>\n",
       "      <th>death_rate_age_13_18</th>\n",
       "      <th>death_rate_age_19_49</th>\n",
       "      <th>death_rate_age_50_60</th>\n",
       "      <th>death_rate_age_more_60</th>\n",
       "    </tr>\n",
       "  </thead>\n",
       "  <tbody>\n",
       "    <tr>\n",
       "      <td>0</td>\n",
       "      <td>0.009266</td>\n",
       "      <td>0.007413</td>\n",
       "      <td>0.185693</td>\n",
       "      <td>0.098962</td>\n",
       "      <td>0.139362</td>\n",
       "    </tr>\n",
       "  </tbody>\n",
       "</table>\n",
       "</div>"
      ],
      "text/plain": [
       "   death_rate_age_less_12  death_rate_age_13_18  death_rate_age_19_49  \\\n",
       "0                0.009266              0.007413              0.185693   \n",
       "\n",
       "   death_rate_age_50_60  death_rate_age_more_60  \n",
       "0              0.098962                0.139362  "
      ]
     },
     "execution_count": 35,
     "metadata": {},
     "output_type": "execute_result"
    }
   ],
   "source": [
    "# Death rate all cases by age\n",
    "d4 = [{\"death_rate_age_less_12\": death_rate_age_less_12, \"death_rate_age_13_18\": death_rate_age_13_18, 'death_rate_age_19_49':death_rate_age_19_49, 'death_rate_age_50_60':death_rate_age_50_60,'death_rate_age_more_60':death_rate_age_more_60}]\n",
    "df4 = pd.DataFrame(d4)\n",
    "df4"
   ]
  },
  {
   "cell_type": "code",
   "execution_count": 38,
   "metadata": {},
   "outputs": [
    {
     "data": {
      "text/plain": [
       "Text(0.5, 0, 'age')"
      ]
     },
     "execution_count": 38,
     "metadata": {},
     "output_type": "execute_result"
    },
    {
     "data": {
      "image/png": "[encoded data removed]",
      "text/plain": [
       "<Figure size 432x288 with 1 Axes>"
      ]
     },
     "metadata": {
      "needs_background": "light"
     },
     "output_type": "display_data"
    }
   ],
   "source": [
    "# Plot \"Death rate all cases by age\"\n",
    "df4.plot(kind='bar');\n",
    "plt.title('Death rate all cases by age', fontsize=14)\n",
    "plt.xlabel('age', fontsize=14)\n",
    "\n",
    "#RESULT: The highest mortality in the group is 19-49 years. Relatively few cases are seen among children untill 18 years."
   ]
  }
 ],
 "metadata": {
  "kernelspec": {
   "display_name": "Python 3",
   "language": "python",
   "name": "python3"
  },
  "language_info": {
   "codemirror_mode": {
    "name": "ipython",
    "version": 3
   },
   "file_extension": ".py",
   "mimetype": "text/x-python",
   "name": "python",
   "nbconvert_exporter": "python",
   "pygments_lexer": "ipython3",
   "version": "3.7.4"
  }
 },
 "nbformat": 4,
 "nbformat_minor": 4
}
